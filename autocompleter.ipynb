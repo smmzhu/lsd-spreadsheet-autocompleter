{
  "cells": [
    {
      "cell_type": "markdown",
      "metadata": {
        "id": "Ycs1HWyw55eT"
      },
      "source": [
        "First, run the initializer script below\n"
      ]
    },
    {
      "cell_type": "code",
      "execution_count": null,
      "metadata": {
        "colab": {
          "base_uri": "https://localhost:8080/",
          "height": 496
        },
        "id": "UFDJxAVpsqjc",
        "outputId": "99a98173-e18a-405a-96c1-f738d94af7e2"
      },
      "outputs": [],
      "source": [
        "import pandas as pd\n",
        "from google.colab import auth\n",
        "auth.authenticate_user()\n",
        "\n",
        "import gspread\n",
        "from oauth2client.client import GoogleCredentials\n",
        "\n",
        "gc = gspread.authorize(GoogleCredentials.get_application_default())\n",
        "\n",
        "worksheet = gc.open('LSD Contact Info Sheet 21-22 ').sheet1\n",
        "\n",
        "# get_all_values gives a list of rows.\n",
        "rows = worksheet.get_all_values()\n",
        "# Convert to a DataFrame and render.\n",
        "df = pd.DataFrame.from_records(rows)\n",
        "\n",
        "worksheet = gc.open('input').sheet1\n",
        "rows = worksheet.get_all_values()\n",
        "inputdf = pd.DataFrame.from_records(rows)\n",
        "inputdf.rename(columns = {0:\"first name\", 1:\"last name\"}, inplace = True)\n",
        "\n",
        "#col_names = df.iloc[0]\n",
        "col_names = pd.Series(data=[\"timestamp\",\"first name\", \"pref first name\", \"last name\", \"grade\", \"period\", \"level\", \"email\", \"phone\", \"address\", \"p1name\", \"p1email\", \"p1phone\", \"p2name\", \"p2email\", \"p2phone\"])\n",
        "df.rename(columns=col_names, inplace = True)\n",
        "df.drop(0,inplace=True)\n",
        "df.head()"
      ]
    },
    {
      "cell_type": "markdown",
      "metadata": {
        "id": "MApa7KeO6FxW"
      },
      "source": [
        "Then, define the parameter columns.\n"
      ]
    },
    {
      "cell_type": "code",
      "execution_count": null,
      "metadata": {
        "id": "4sFmu9S36iNR"
      },
      "outputs": [],
      "source": [
        "contact_info = df.values.tolist()\n",
        "class Student:\n",
        "  def __init__(self, info_pack):\n",
        "    for ind in range(1,len(info_pack)):\n",
        "      if len(info_pack[ind]) > 0:\n",
        "        while info_pack[ind][-1] == \" \" and len(info_pack[ind]) > 1:\n",
        "          info_pack[ind] = info_pack[ind][:-1]\n",
        "    self.first_name = info_pack[1]\n",
        "    self.pref_first_name = info_pack[2]\n",
        "    self.last_name = info_pack[3]\n",
        "    #index 4 is full name\n",
        "    self.grade = info_pack[5]\n",
        "    self.period = info_pack[6]\n",
        "    self.level = info_pack[7]\n",
        "    self.email = info_pack[8]\n",
        "    self.phone = info_pack[9]\n",
        "    self.address = info_pack[10]\n",
        "    self.p1name = info_pack[11]\n",
        "    self.p1email = info_pack[12]\n",
        "    self.p1phone = info_pack[13]\n",
        "    self.p2name = info_pack[14]\n",
        "    self.p2email = info_pack[15]\n",
        "    self.p2phone = info_pack[16]\n",
        "  def return_val(self, param):\n",
        "    if param == \"first name\":\n",
        "      return self.first_name\n",
        "    if param == \"pref first name\":\n",
        "      return self.pref_first_name\n",
        "    if param == \"last name\":\n",
        "      return self.last_name\n",
        "    if param == \"grade\":\n",
        "      return self.grade\n",
        "    if param == \"period\":\n",
        "      return self.period\n",
        "    if param == \"level\":\n",
        "      return self.level\n",
        "    if param == \"phone\":\n",
        "      return self.phone\n",
        "    if param == \"email\":\n",
        "      return self.email\n",
        "    if param == \"address\":\n",
        "      return self.address\n",
        "    if param == \"p1name\":\n",
        "      return self.p1name\n",
        "    if param == \"p1email\":\n",
        "      return self.p1email\n",
        "    if param == \"p1phone\":\n",
        "      return self.p1phone\n",
        "    if param == \"p2name\":\n",
        "      return self.p2name\n",
        "    if param == \"p2email\":\n",
        "      return self.p2email\n",
        "    if param == \"p2phone\":\n",
        "      return self.p2phone\n",
        "      \n",
        "students = []\n",
        "for item in contact_info:\n",
        "  students.append(Student(item)) "
      ]
    },
    {
      "cell_type": "code",
      "execution_count": null,
      "metadata": {
        "colab": {
          "base_uri": "https://localhost:8080/"
        },
        "id": "DmkygkY28Ocb",
        "outputId": "0991f9fb-261c-4c91-bdb6-8c5e1a5ac59f"
      },
      "outputs": [
        {
          "name": "stdout",
          "output_type": "stream",
          "text": [
            "Collecting fuzzywuzzy\n",
            "  Downloading fuzzywuzzy-0.18.0-py2.py3-none-any.whl (18 kB)\n",
            "Installing collected packages: fuzzywuzzy\n",
            "Successfully installed fuzzywuzzy-0.18.0\n"
          ]
        },
        {
          "name": "stderr",
          "output_type": "stream",
          "text": [
            "/usr/local/lib/python3.7/dist-packages/fuzzywuzzy/fuzz.py:11: UserWarning: Using slow pure-python SequenceMatcher. Install python-Levenshtein to remove this warning\n",
            "  warnings.warn('Using slow pure-python SequenceMatcher. Install python-Levenshtein to remove this warning')\n"
          ]
        },
        {
          "data": {
            "text/plain": [
              "31"
            ]
          },
          "execution_count": 3,
          "metadata": {},
          "output_type": "execute_result"
        }
      ],
      "source": [
        "!pip install fuzzywuzzy\n",
        "from fuzzywuzzy import process\n",
        "inputs = []\n",
        "old_inputs = inputdf.values.tolist()\n",
        "for item in old_inputs:\n",
        "  if process.extract(\"Anahita Kashani Gregg\",[item[0]])[0][1]>80: #hard codes around the ppl with double last/first names\n",
        "    inputs.append([\"Anahita\", \"Kashani Gregg\"])\n",
        "  elif process.extract(\"Gieve Kashani Gregg\",[item[0]])[0][1]>80:\n",
        "    inputs.append([\"Gieve\", \"Kashani Gregg\"])\n",
        "  elif process.extract(\"Min Joo Kim\",[item[0]])[0][1]>80:\n",
        "    inputs.append([\"Min Joo\", \"Kim\"])\n",
        "  else:\n",
        "    inputs.append(item[0].rsplit(\" \",1))\n",
        "\n",
        "len(inputs)\n"
      ]
    },
    {
      "cell_type": "code",
      "execution_count": null,
      "metadata": {
        "colab": {
          "base_uri": "https://localhost:8080/"
        },
        "id": "LsOueu1D9b-2",
        "outputId": "05225dd9-7ee8-4716-a011-1764bdfdc20c"
      },
      "outputs": [
        {
          "data": {
            "text/plain": [
              "31"
            ]
          },
          "execution_count": 4,
          "metadata": {},
          "output_type": "execute_result"
        }
      ],
      "source": [
        "#cell that u should tweak\n",
        "\n",
        "params = [ \"email\", \"phone\"] #change this accordingly\n",
        "outputs = []\n",
        "for first,last in inputs:\n",
        "  output_row = [first,last]\n",
        "  myStudent = \"???\"\n",
        "  for student in students:\n",
        "    if process.extract(student.first_name,[first])[0][1] > 80 and process.extract(student.last_name,[last])[0][1] > 80:\n",
        "    #if first == student.first_name and last == student.last_name:\n",
        "      myStudent = student\n",
        "      break\n",
        "    elif student.pref_first_name != \"\":\n",
        "      if process.extract(student.pref_first_name,[first])[0][1] > 80 and process.extract(student.last_name,[last])[0][1] > 80: \n",
        "        myStudent = student\n",
        "        break\n",
        "  for param in params:\n",
        "    if myStudent == \"???\":\n",
        "      output_row.append(\"err\")\n",
        "    else:\n",
        "      output_row.append(myStudent.return_val(param))\n",
        "  outputs.append(output_row)\n",
        "len(outputs)\n",
        "    "
      ]
    },
    {
      "cell_type": "code",
      "execution_count": null,
      "metadata": {
        "colab": {
          "base_uri": "https://localhost:8080/"
        },
        "id": "Rjsx_KmOB7b0",
        "outputId": "15a1ac9d-b3d7-4133-c6c8-431e57629685"
      },
      "outputs": [
        {
          "name": "stdout",
          "output_type": "stream",
          "text": [
            "Mounted at /content/drive\n"
          ]
        }
      ],
      "source": [
        "outputdf = pd.DataFrame(data=outputs)\n",
        "\n",
        "worksheet = gc.open('output').sheet1\n",
        "my_file = outputdf.to_csv()\n",
        "\n",
        "from google.colab import drive\n",
        "drive.mount('/content/drive')\n",
        "\n",
        "with open('/content/drive/MyDrive/lsd-machine-input-output/output.csv', 'w') as f:\n",
        "  f.write(my_file)\n"
      ]
    },
    {
      "cell_type": "code",
      "execution_count": null,
      "metadata": {
        "id": "NK0SgA2UNL39"
      },
      "outputs": [],
      "source": []
    }
  ],
  "metadata": {
    "colab": {
      "provenance": []
    },
    "kernelspec": {
      "display_name": "Python 3",
      "name": "python3"
    },
    "language_info": {
      "name": "python"
    }
  },
  "nbformat": 4,
  "nbformat_minor": 0
}
